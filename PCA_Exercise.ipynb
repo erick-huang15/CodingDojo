{
  "cells": [
    {
      "cell_type": "markdown",
      "metadata": {
        "id": "view-in-github",
        "colab_type": "text"
      },
      "source": [
        "<a href=\"https://colab.research.google.com/github/erick-huang15/Python_Exercises/blob/main/PCA_Exercise.ipynb\" target=\"_parent\"><img src=\"https://colab.research.google.com/assets/colab-badge.svg\" alt=\"Open In Colab\"/></a>"
      ]
    },
    {
      "cell_type": "code",
      "execution_count": 1,
      "metadata": {
        "id": "9S6s5JGElc7S"
      },
      "outputs": [],
      "source": [
        "import numpy as np\n",
        "import pandas as pd\n",
        "import matplotlib.pyplot as plt\n",
        "from sklearn.preprocessing import LabelEncoder, StandardScaler\n",
        "from sklearn.pipeline import make_pipeline\n",
        "from sklearn.model_selection import train_test_split\n",
        "from sklearn.decomposition import PCA\n",
        "from sklearn.linear_model import LogisticRegression\n",
        "from sklearn.neighbors import KNeighborsClassifier\n",
        "from sklearn.metrics import accuracy_score, precision_score, recall_score, classification_report, confusion_matrix\n"
      ]
    },
    {
      "cell_type": "code",
      "execution_count": 2,
      "metadata": {
        "colab": {
          "base_uri": "https://localhost:8080/"
        },
        "id": "KgH8K5gsln5l",
        "outputId": "ef860c67-138f-418c-ca40-063a874226cc"
      },
      "outputs": [
        {
          "output_type": "execute_result",
          "data": {
            "text/plain": [
              "(70000, 784)"
            ]
          },
          "metadata": {},
          "execution_count": 2
        }
      ],
      "source": [
        "from sklearn.datasets import fetch_openml\n",
        "mnist = fetch_openml('mnist_784')\n",
        "mnist.data.shape"
      ]
    },
    {
      "cell_type": "code",
      "execution_count": 3,
      "metadata": {
        "id": "WA_kqt98mO-o"
      },
      "outputs": [],
      "source": [
        "X_train, X_test, y_train, y_test = train_test_split(mnist.data, mnist.target, random_state=42)"
      ]
    },
    {
      "cell_type": "code",
      "execution_count": 4,
      "metadata": {
        "id": "8aPsqz7UqiMO"
      },
      "outputs": [],
      "source": [
        "knn = KNeighborsClassifier()\n",
        "knn_pipe = make_pipeline(StandardScaler(), knn)"
      ]
    },
    {
      "cell_type": "code",
      "execution_count": 5,
      "metadata": {
        "colab": {
          "base_uri": "https://localhost:8080/"
        },
        "id": "Uqdtwv7hxtRG",
        "outputId": "da9d14a3-9d14-4118-9f25-5f7100167009"
      },
      "outputs": [
        {
          "output_type": "execute_result",
          "data": {
            "text/plain": [
              "Pipeline(steps=[('standardscaler', StandardScaler()),\n",
              "                ('kneighborsclassifier', KNeighborsClassifier())])"
            ]
          },
          "metadata": {},
          "execution_count": 5
        }
      ],
      "source": [
        "knn_pipe.fit(X_train, y_train)"
      ]
    },
    {
      "cell_type": "code",
      "execution_count": 6,
      "metadata": {
        "colab": {
          "base_uri": "https://localhost:8080/"
        },
        "id": "U6k8vVp2yHK2",
        "outputId": "c51a3aa4-4102-4621-98ef-b13e62be112e"
      },
      "outputs": [
        {
          "output_type": "stream",
          "name": "stdout",
          "text": [
            "train accuracy: 0.9625904761904762\n",
            "\n",
            "\n",
            "test accuracy: 0.9442285714285714\n"
          ]
        }
      ],
      "source": [
        "print('train accuracy:', knn_pipe.score(X_train, y_train))\n",
        "print('\\n')\n",
        "print('test accuracy:', knn_pipe.score(X_test, y_test))"
      ]
    },
    {
      "cell_type": "code",
      "execution_count": 7,
      "metadata": {
        "id": "ZLDTBBHBznxZ",
        "colab": {
          "base_uri": "https://localhost:8080/",
          "height": 297
        },
        "outputId": "cc24d956-209d-45f9-d5bf-d37a4b7496b8"
      },
      "outputs": [
        {
          "output_type": "execute_result",
          "data": {
            "text/plain": [
              "Text(0, 0.5, 'Score')"
            ]
          },
          "metadata": {},
          "execution_count": 7
        },
        {
          "output_type": "display_data",
          "data": {
            "text/plain": [
              "<Figure size 432x288 with 1 Axes>"
            ],
            "image/png": "[encoded data removed]"
          },
          "metadata": {
            "needs_background": "light"
          }
        }
      ],
      "source": [
        "k_list = []\n",
        "\n",
        "for k in range(1,11):\n",
        "  knn_pipe = make_pipeline(StandardScaler(), KNeighborsClassifier(n_neighbors=k))\n",
        "  knn_pipe.fit(X_train, y_train)\n",
        "  score = accuracy_score(y_test, knn_pipe.predict(X_test))\n",
        "  k_list.append(score)\n",
        "\n",
        "plt.plot(range(1,11), k_list)\n",
        "plt.xlabel('k')\n",
        "plt.ylabel('Score')"
      ]
    },
    {
      "cell_type": "code",
      "execution_count": 8,
      "metadata": {
        "id": "5z3_a5NcDiif",
        "colab": {
          "base_uri": "https://localhost:8080/"
        },
        "outputId": "79bf09e6-f0c1-4d69-8e89-e76c1e0dc644"
      },
      "outputs": [
        {
          "output_type": "execute_result",
          "data": {
            "text/plain": [
              "Pipeline(steps=[('standardscaler', StandardScaler()),\n",
              "                ('kneighborsclassifier', KNeighborsClassifier(n_neighbors=3))])"
            ]
          },
          "metadata": {},
          "execution_count": 8
        }
      ],
      "source": [
        "knn_best = make_pipeline(StandardScaler(), KNeighborsClassifier(n_neighbors=3))\n",
        "knn_best.fit(X_train, y_train)"
      ]
    },
    {
      "cell_type": "code",
      "execution_count": 9,
      "metadata": {
        "colab": {
          "base_uri": "https://localhost:8080/"
        },
        "id": "vgwSUM45D8QK",
        "outputId": "3a791148-4ba0-4d34-ad02-1b19891190d0"
      },
      "outputs": [
        {
          "output_type": "stream",
          "name": "stdout",
          "text": [
            "new train accuracy: 0.9714095238095238\n",
            "\n",
            "\n",
            "new test accuracy: 0.9449714285714286\n"
          ]
        }
      ],
      "source": [
        "print('new train accuracy:', knn_best.score(X_train, y_train))\n",
        "print('\\n')\n",
        "print('new test accuracy:', knn_best.score(X_test, y_test))"
      ]
    },
    {
      "cell_type": "markdown",
      "metadata": {
        "id": "r4mkivAwG1NW"
      },
      "source": [
        "### PCA \n"
      ]
    },
    {
      "cell_type": "code",
      "execution_count": 10,
      "metadata": {
        "id": "Ea6GZcJLGbMR"
      },
      "outputs": [],
      "source": [
        "#using PCA to lower the dimensions in this dataset while retaining 95% of the variance\n",
        "pca = PCA(n_components=.95)\n",
        "transformer = make_pipeline(StandardScaler(), pca)"
      ]
    },
    {
      "cell_type": "code",
      "execution_count": 11,
      "metadata": {
        "id": "H1HrIxT0RDgd"
      },
      "outputs": [],
      "source": [
        "knn_pca = make_pipeline(transformer, knn)"
      ]
    },
    {
      "cell_type": "code",
      "execution_count": 12,
      "metadata": {
        "id": "x0LIa6sORKBu",
        "colab": {
          "base_uri": "https://localhost:8080/"
        },
        "outputId": "3c6592a7-e974-4b1a-efe3-bde95d693da6"
      },
      "outputs": [
        {
          "output_type": "execute_result",
          "data": {
            "text/plain": [
              "Pipeline(steps=[('pipeline',\n",
              "                 Pipeline(steps=[('standardscaler', StandardScaler()),\n",
              "                                 ('pca', PCA(n_components=0.95))])),\n",
              "                ('kneighborsclassifier', KNeighborsClassifier())])"
            ]
          },
          "metadata": {},
          "execution_count": 12
        }
      ],
      "source": [
        "knn_pca.fit(X_train, y_train)"
      ]
    },
    {
      "cell_type": "code",
      "execution_count": 13,
      "metadata": {
        "id": "wnSKR1BxRsme",
        "colab": {
          "base_uri": "https://localhost:8080/"
        },
        "outputId": "26eeaf3c-ca84-4063-e8e1-dcc5463c81fd"
      },
      "outputs": [
        {
          "output_type": "stream",
          "name": "stdout",
          "text": [
            "PCA train accuracy: 0.9650285714285715\n",
            "\n",
            "\n",
            "PCA test accuracy: 0.9477714285714286\n"
          ]
        }
      ],
      "source": [
        "print('PCA train accuracy:', knn_pca.score(X_train, y_train))\n",
        "print('\\n')\n",
        "print('PCA test accuracy:', knn_pca.score(X_test, y_test))"
      ]
    },
    {
      "cell_type": "code",
      "source": [
        "k_pca_list = []\n",
        "\n",
        "for k in range(1,11):\n",
        "  knn_pca = make_pipeline(transformer, KNeighborsClassifier(n_neighbors=k))\n",
        "  knn_pca.fit(X_train, y_train)\n",
        "  score = accuracy_score(y_test, knn_pca.predict(X_test))\n",
        "  k_pca_list.append(score)\n",
        "\n",
        "plt.plot(range(1,11), k_pca_list)\n",
        "plt.xlabel('k')\n",
        "plt.ylabel('Score')"
      ],
      "metadata": {
        "colab": {
          "base_uri": "https://localhost:8080/",
          "height": 297
        },
        "id": "dtq9VISBgcqN",
        "outputId": "5c12a941-205e-453e-9fd6-bb3cca5cae4b"
      },
      "execution_count": 19,
      "outputs": [
        {
          "output_type": "execute_result",
          "data": {
            "text/plain": [
              "Text(0, 0.5, 'Score')"
            ]
          },
          "metadata": {},
          "execution_count": 19
        },
        {
          "output_type": "display_data",
          "data": {
            "text/plain": [
              "<Figure size 432x288 with 1 Axes>"
            ],
            "image/png": "[encoded data removed]"
          },
          "metadata": {
            "needs_background": "light"
          }
        }
      ]
    },
    {
      "cell_type": "code",
      "source": [
        "knn_pca_best = make_pipeline(StandardScaler(), KNeighborsClassifier(n_neighbors=3))\n",
        "knn_pca_best.fit(X_train, y_train)"
      ],
      "metadata": {
        "colab": {
          "base_uri": "https://localhost:8080/"
        },
        "id": "wewc6zWqjw-s",
        "outputId": "3d74afc1-d289-4bb4-bbf9-e0245826946d"
      },
      "execution_count": 23,
      "outputs": [
        {
          "output_type": "execute_result",
          "data": {
            "text/plain": [
              "Pipeline(steps=[('standardscaler', StandardScaler()),\n",
              "                ('kneighborsclassifier', KNeighborsClassifier(n_neighbors=3))])"
            ]
          },
          "metadata": {},
          "execution_count": 23
        }
      ]
    },
    {
      "cell_type": "code",
      "source": [
        "print('PCA best train accuracy:', knn_pca_best.score(X_train, y_train))\n",
        "print('\\n')\n",
        "print('PCA best test accuracy:', knn_pca_best.score(X_test, y_test))"
      ],
      "metadata": {
        "colab": {
          "base_uri": "https://localhost:8080/"
        },
        "id": "Hl9ybGuyj2OR",
        "outputId": "db367b15-ad17-4991-94be-e50c13e964ce"
      },
      "execution_count": 24,
      "outputs": [
        {
          "output_type": "stream",
          "name": "stdout",
          "text": [
            "PCA best train accuracy: 0.9714095238095238\n",
            "\n",
            "\n",
            "PCA best test accuracy: 0.9449714285714286\n"
          ]
        }
      ]
    },
    {
      "cell_type": "code",
      "source": [
        "%%time\n",
        "preds_pca = knn_pca_best.predict(X_test)"
      ],
      "metadata": {
        "colab": {
          "base_uri": "https://localhost:8080/"
        },
        "id": "MHG7S0kglSUD",
        "outputId": "47b18f62-090a-4985-910a-ef79aeeb9b45"
      },
      "execution_count": 27,
      "outputs": [
        {
          "output_type": "stream",
          "name": "stdout",
          "text": [
            "CPU times: user 1min 37s, sys: 3.34 s, total: 1min 40s\n",
            "Wall time: 57.3 s\n"
          ]
        }
      ]
    },
    {
      "cell_type": "code",
      "source": [
        "%%time\n",
        "preds_no_pca = knn_best.predict(X_test)"
      ],
      "metadata": {
        "colab": {
          "base_uri": "https://localhost:8080/"
        },
        "id": "vyOH-PXCmPDj",
        "outputId": "41039d78-8efd-4b16-ccf9-b6b5e89c0074"
      },
      "execution_count": 28,
      "outputs": [
        {
          "output_type": "stream",
          "name": "stdout",
          "text": [
            "CPU times: user 1min 37s, sys: 1.38 s, total: 1min 38s\n",
            "Wall time: 55.9 s\n"
          ]
        }
      ]
    },
    {
      "cell_type": "markdown",
      "source": [
        "Score from Tests\n",
        "- PCA Improved Training Accuracy: 0.9714\n",
        "- PCA Improved Test Accuracy: 0.9449\n",
        "- PCA Test Accuracy: 0.9650\n",
        "- PCA Training Accuracy: 0.9477\n",
        "- KNN Improved Training Accuracy: 0.9714\n",
        "- KNN Improved Test Accuracy:0.9449\n",
        "- KNN Training Accuracy: 0.9449\n",
        "- KNN Test Accuracy:0.9442\n",
        "\n"
      ],
      "metadata": {
        "id": "6ppZBpHTms7e"
      }
    },
    {
      "cell_type": "markdown",
      "source": [
        "5. Answer the Following Questions in Text:\n",
        "a. which model performed the best on the test set? Both model performed the same after tuning but before tuning the PCA performed better\n",
        "b. which model was the fastest at making prediction? Based on the wall time, the PCA performend faster"
      ],
      "metadata": {
        "id": "EgGU5t6Ltt1G"
      }
    }
  ],
  "metadata": {
    "colab": {
      "collapsed_sections": [],
      "name": "PCA Exercise.ipynb",
      "provenance": [],
      "authorship_tag": "ABX9TyPNvXwEhFbDqCwwqyp5JIoB",
      "include_colab_link": true
    },
    "kernelspec": {
      "display_name": "Python 3",
      "name": "python3"
    },
    "language_info": {
      "name": "python"
    }
  },
  "nbformat": 4,
  "nbformat_minor": 0
}